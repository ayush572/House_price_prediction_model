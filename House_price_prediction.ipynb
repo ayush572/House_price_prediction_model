{
  "nbformat": 4,
  "nbformat_minor": 0,
  "metadata": {
    "colab": {
      "name": "House_price_prediction.ipynb",
      "provenance": [],
      "collapsed_sections": [],
      "toc_visible": true,
      "include_colab_link": true
    },
    "kernelspec": {
      "name": "python3",
      "display_name": "Python 3"
    },
    "language_info": {
      "name": "python"
    }
  },
  "cells": [
    {
      "cell_type": "markdown",
      "metadata": {
        "id": "view-in-github",
        "colab_type": "text"
      },
      "source": [
        "<a href=\"https://colab.research.google.com/github/ayush572/House_price_prediction_model/blob/main/House_price_prediction.ipynb\" target=\"_parent\"><img src=\"https://colab.research.google.com/assets/colab-badge.svg\" alt=\"Open In Colab\"/></a>"
      ]
    },
    {
      "cell_type": "markdown",
      "metadata": {
        "id": "grEBdq3fb2GD"
      },
      "source": [
        "# New Section"
      ]
    },
    {
      "cell_type": "code",
      "metadata": {
        "colab": {
          "base_uri": "https://localhost:8080/"
        },
        "id": "4HChXr-mbPdP",
        "outputId": "b31d0352-71a6-4375-aed9-49e60f8335c1"
      },
      "source": [
        "#New training model started from here\n",
        "#first run this cell please\n",
        "from google.colab import drive\n",
        "drive.mount('/content/drive')"
      ],
      "execution_count": 1,
      "outputs": [
        {
          "output_type": "stream",
          "text": [
            "Mounted at /content/drive\n"
          ],
          "name": "stdout"
        }
      ]
    },
    {
      "cell_type": "code",
      "metadata": {
        "id": "wrFanQoIiWCV",
        "colab": {
          "base_uri": "https://localhost:8080/",
          "height": 244
        },
        "outputId": "e99ce05f-8ef7-4f1f-c512-56fadf225847"
      },
      "source": [
        "#One hot encoding done here\n",
        "#Training of model\n",
        "import pandas as pd\n",
        "df=pd.read_csv('/content/drive/MyDrive/dataset/train.csv')\n",
        "dummies=pd.get_dummies(df, columns=['MSZoning','HeatingQC','CentralAir','BsmtQual','BsmtCond','ExterQual','Exterior1st','RoofStyle','KitchenQual','Street','LandContour','GarageType','Utilities','LotConfig','FireplaceQu','GarageQual','GarageCond','BsmtFinType1','LandSlope','LotShape','Condition1','PoolQC','Fence','MiscFeature','SaleType','BldgType','HouseStyle','SaleCondition','RoofMatl'], drop_first=True)\n",
        "y=df.SalePrice\n",
        "y=y.to_numpy()\n",
        "df=df.drop(['SalePrice','Id','MSZoning','CentralAir','Electrical','BldgType','HouseStyle','Heating','Street','HeatingQC','BsmtFinType2','BsmtQual','Alley','Functional','BsmtFinType1','BsmtCond','Foundation','SaleCondition','LandContour','ExterQual','Fireplaces','FireplaceQu','GarageCond','GarageQual','LandSlope','Neighborhood','Condition1','Condition2','LotShape','PoolQC','Fence','SaleType','RoofMatl','MiscFeature','BsmtExposure','ExterCond','MasVnrType','Utilities','LotConfig','GarageFinish','PavedDrive','Exterior2nd','GarageType','Exterior1st','RoofStyle','KitchenQual'], axis=1)\n",
        "df=pd.concat([dummies], axis=1)\n",
        "df.drop(['Functional','Id','Alley','Neighborhood','Condition2','Exterior2nd','MasVnrType','ExterCond','Foundation','BsmtExposure','BsmtFinType2','Heating','Electrical','GarageFinish','PavedDrive'], axis=1, inplace=True)\n",
        "df.drop(df.columns[36], inplace=True, axis=1)\n",
        "df=df.fillna(df.mean())\n",
        "#Here the specific columns have been removed, upon comparision with the TEST DATASET\n",
        "df.drop(df.columns[[152,153,154,155]], axis=1, inplace=True)\n",
        "df.drop(['HouseStyle_2.5Fin'], axis=1, inplace=True)\n",
        "df.drop(['MiscFeature_TenC'], axis=1, inplace=True)\n",
        "df.drop(['PoolQC_Fa'], axis=1, inplace=True)\n",
        "df.drop(['GarageQual_Fa'], axis=1, inplace=True)\n",
        "df.drop(['Utilities_NoSeWa'], axis=1, inplace=True)\n",
        "df.drop(['Exterior1st_ImStucc','Exterior1st_Stone'], axis=1, inplace=True)\n",
        "df.drop(['MSZoning_FV'], axis=1, inplace=True)\n",
        "df.head()\n",
        "#df.info(verbose=True, null_counts=True)"
      ],
      "execution_count": 2,
      "outputs": [
        {
          "output_type": "execute_result",
          "data": {
            "text/html": [
              "<div>\n",
              "<style scoped>\n",
              "    .dataframe tbody tr th:only-of-type {\n",
              "        vertical-align: middle;\n",
              "    }\n",
              "\n",
              "    .dataframe tbody tr th {\n",
              "        vertical-align: top;\n",
              "    }\n",
              "\n",
              "    .dataframe thead th {\n",
              "        text-align: right;\n",
              "    }\n",
              "</style>\n",
              "<table border=\"1\" class=\"dataframe\">\n",
              "  <thead>\n",
              "    <tr style=\"text-align: right;\">\n",
              "      <th></th>\n",
              "      <th>MSSubClass</th>\n",
              "      <th>LotFrontage</th>\n",
              "      <th>LotArea</th>\n",
              "      <th>OverallQual</th>\n",
              "      <th>OverallCond</th>\n",
              "      <th>YearBuilt</th>\n",
              "      <th>YearRemodAdd</th>\n",
              "      <th>MasVnrArea</th>\n",
              "      <th>BsmtFinSF1</th>\n",
              "      <th>BsmtFinSF2</th>\n",
              "      <th>BsmtUnfSF</th>\n",
              "      <th>TotalBsmtSF</th>\n",
              "      <th>1stFlrSF</th>\n",
              "      <th>2ndFlrSF</th>\n",
              "      <th>LowQualFinSF</th>\n",
              "      <th>GrLivArea</th>\n",
              "      <th>BsmtFullBath</th>\n",
              "      <th>BsmtHalfBath</th>\n",
              "      <th>FullBath</th>\n",
              "      <th>HalfBath</th>\n",
              "      <th>BedroomAbvGr</th>\n",
              "      <th>KitchenAbvGr</th>\n",
              "      <th>TotRmsAbvGrd</th>\n",
              "      <th>Fireplaces</th>\n",
              "      <th>GarageYrBlt</th>\n",
              "      <th>GarageCars</th>\n",
              "      <th>GarageArea</th>\n",
              "      <th>WoodDeckSF</th>\n",
              "      <th>OpenPorchSF</th>\n",
              "      <th>EnclosedPorch</th>\n",
              "      <th>3SsnPorch</th>\n",
              "      <th>ScreenPorch</th>\n",
              "      <th>PoolArea</th>\n",
              "      <th>MiscVal</th>\n",
              "      <th>MoSold</th>\n",
              "      <th>YrSold</th>\n",
              "      <th>MSZoning_RH</th>\n",
              "      <th>MSZoning_RL</th>\n",
              "      <th>MSZoning_RM</th>\n",
              "      <th>HeatingQC_Fa</th>\n",
              "      <th>...</th>\n",
              "      <th>Condition1_Feedr</th>\n",
              "      <th>Condition1_Norm</th>\n",
              "      <th>Condition1_PosA</th>\n",
              "      <th>Condition1_PosN</th>\n",
              "      <th>Condition1_RRAe</th>\n",
              "      <th>Condition1_RRAn</th>\n",
              "      <th>Condition1_RRNe</th>\n",
              "      <th>Condition1_RRNn</th>\n",
              "      <th>PoolQC_Gd</th>\n",
              "      <th>Fence_GdWo</th>\n",
              "      <th>Fence_MnPrv</th>\n",
              "      <th>Fence_MnWw</th>\n",
              "      <th>MiscFeature_Othr</th>\n",
              "      <th>MiscFeature_Shed</th>\n",
              "      <th>SaleType_CWD</th>\n",
              "      <th>SaleType_Con</th>\n",
              "      <th>SaleType_ConLD</th>\n",
              "      <th>SaleType_ConLI</th>\n",
              "      <th>SaleType_ConLw</th>\n",
              "      <th>SaleType_New</th>\n",
              "      <th>SaleType_Oth</th>\n",
              "      <th>SaleType_WD</th>\n",
              "      <th>BldgType_2fmCon</th>\n",
              "      <th>BldgType_Duplex</th>\n",
              "      <th>BldgType_Twnhs</th>\n",
              "      <th>BldgType_TwnhsE</th>\n",
              "      <th>HouseStyle_1.5Unf</th>\n",
              "      <th>HouseStyle_1Story</th>\n",
              "      <th>HouseStyle_2.5Unf</th>\n",
              "      <th>HouseStyle_2Story</th>\n",
              "      <th>HouseStyle_SFoyer</th>\n",
              "      <th>HouseStyle_SLvl</th>\n",
              "      <th>SaleCondition_AdjLand</th>\n",
              "      <th>SaleCondition_Alloca</th>\n",
              "      <th>SaleCondition_Family</th>\n",
              "      <th>SaleCondition_Normal</th>\n",
              "      <th>SaleCondition_Partial</th>\n",
              "      <th>RoofMatl_Tar&amp;Grv</th>\n",
              "      <th>RoofMatl_WdShake</th>\n",
              "      <th>RoofMatl_WdShngl</th>\n",
              "    </tr>\n",
              "  </thead>\n",
              "  <tbody>\n",
              "    <tr>\n",
              "      <th>0</th>\n",
              "      <td>60</td>\n",
              "      <td>65.0</td>\n",
              "      <td>8450</td>\n",
              "      <td>7</td>\n",
              "      <td>5</td>\n",
              "      <td>2003</td>\n",
              "      <td>2003</td>\n",
              "      <td>196.0</td>\n",
              "      <td>706</td>\n",
              "      <td>0</td>\n",
              "      <td>150</td>\n",
              "      <td>856</td>\n",
              "      <td>856</td>\n",
              "      <td>854</td>\n",
              "      <td>0</td>\n",
              "      <td>1710</td>\n",
              "      <td>1</td>\n",
              "      <td>0</td>\n",
              "      <td>2</td>\n",
              "      <td>1</td>\n",
              "      <td>3</td>\n",
              "      <td>1</td>\n",
              "      <td>8</td>\n",
              "      <td>0</td>\n",
              "      <td>2003.0</td>\n",
              "      <td>2</td>\n",
              "      <td>548</td>\n",
              "      <td>0</td>\n",
              "      <td>61</td>\n",
              "      <td>0</td>\n",
              "      <td>0</td>\n",
              "      <td>0</td>\n",
              "      <td>0</td>\n",
              "      <td>0</td>\n",
              "      <td>2</td>\n",
              "      <td>2008</td>\n",
              "      <td>0</td>\n",
              "      <td>1</td>\n",
              "      <td>0</td>\n",
              "      <td>0</td>\n",
              "      <td>...</td>\n",
              "      <td>0</td>\n",
              "      <td>1</td>\n",
              "      <td>0</td>\n",
              "      <td>0</td>\n",
              "      <td>0</td>\n",
              "      <td>0</td>\n",
              "      <td>0</td>\n",
              "      <td>0</td>\n",
              "      <td>0</td>\n",
              "      <td>0</td>\n",
              "      <td>0</td>\n",
              "      <td>0</td>\n",
              "      <td>0</td>\n",
              "      <td>0</td>\n",
              "      <td>0</td>\n",
              "      <td>0</td>\n",
              "      <td>0</td>\n",
              "      <td>0</td>\n",
              "      <td>0</td>\n",
              "      <td>0</td>\n",
              "      <td>0</td>\n",
              "      <td>1</td>\n",
              "      <td>0</td>\n",
              "      <td>0</td>\n",
              "      <td>0</td>\n",
              "      <td>0</td>\n",
              "      <td>0</td>\n",
              "      <td>0</td>\n",
              "      <td>0</td>\n",
              "      <td>1</td>\n",
              "      <td>0</td>\n",
              "      <td>0</td>\n",
              "      <td>0</td>\n",
              "      <td>0</td>\n",
              "      <td>0</td>\n",
              "      <td>1</td>\n",
              "      <td>0</td>\n",
              "      <td>0</td>\n",
              "      <td>0</td>\n",
              "      <td>0</td>\n",
              "    </tr>\n",
              "    <tr>\n",
              "      <th>1</th>\n",
              "      <td>20</td>\n",
              "      <td>80.0</td>\n",
              "      <td>9600</td>\n",
              "      <td>6</td>\n",
              "      <td>8</td>\n",
              "      <td>1976</td>\n",
              "      <td>1976</td>\n",
              "      <td>0.0</td>\n",
              "      <td>978</td>\n",
              "      <td>0</td>\n",
              "      <td>284</td>\n",
              "      <td>1262</td>\n",
              "      <td>1262</td>\n",
              "      <td>0</td>\n",
              "      <td>0</td>\n",
              "      <td>1262</td>\n",
              "      <td>0</td>\n",
              "      <td>1</td>\n",
              "      <td>2</td>\n",
              "      <td>0</td>\n",
              "      <td>3</td>\n",
              "      <td>1</td>\n",
              "      <td>6</td>\n",
              "      <td>1</td>\n",
              "      <td>1976.0</td>\n",
              "      <td>2</td>\n",
              "      <td>460</td>\n",
              "      <td>298</td>\n",
              "      <td>0</td>\n",
              "      <td>0</td>\n",
              "      <td>0</td>\n",
              "      <td>0</td>\n",
              "      <td>0</td>\n",
              "      <td>0</td>\n",
              "      <td>5</td>\n",
              "      <td>2007</td>\n",
              "      <td>0</td>\n",
              "      <td>1</td>\n",
              "      <td>0</td>\n",
              "      <td>0</td>\n",
              "      <td>...</td>\n",
              "      <td>1</td>\n",
              "      <td>0</td>\n",
              "      <td>0</td>\n",
              "      <td>0</td>\n",
              "      <td>0</td>\n",
              "      <td>0</td>\n",
              "      <td>0</td>\n",
              "      <td>0</td>\n",
              "      <td>0</td>\n",
              "      <td>0</td>\n",
              "      <td>0</td>\n",
              "      <td>0</td>\n",
              "      <td>0</td>\n",
              "      <td>0</td>\n",
              "      <td>0</td>\n",
              "      <td>0</td>\n",
              "      <td>0</td>\n",
              "      <td>0</td>\n",
              "      <td>0</td>\n",
              "      <td>0</td>\n",
              "      <td>0</td>\n",
              "      <td>1</td>\n",
              "      <td>0</td>\n",
              "      <td>0</td>\n",
              "      <td>0</td>\n",
              "      <td>0</td>\n",
              "      <td>0</td>\n",
              "      <td>1</td>\n",
              "      <td>0</td>\n",
              "      <td>0</td>\n",
              "      <td>0</td>\n",
              "      <td>0</td>\n",
              "      <td>0</td>\n",
              "      <td>0</td>\n",
              "      <td>0</td>\n",
              "      <td>1</td>\n",
              "      <td>0</td>\n",
              "      <td>0</td>\n",
              "      <td>0</td>\n",
              "      <td>0</td>\n",
              "    </tr>\n",
              "    <tr>\n",
              "      <th>2</th>\n",
              "      <td>60</td>\n",
              "      <td>68.0</td>\n",
              "      <td>11250</td>\n",
              "      <td>7</td>\n",
              "      <td>5</td>\n",
              "      <td>2001</td>\n",
              "      <td>2002</td>\n",
              "      <td>162.0</td>\n",
              "      <td>486</td>\n",
              "      <td>0</td>\n",
              "      <td>434</td>\n",
              "      <td>920</td>\n",
              "      <td>920</td>\n",
              "      <td>866</td>\n",
              "      <td>0</td>\n",
              "      <td>1786</td>\n",
              "      <td>1</td>\n",
              "      <td>0</td>\n",
              "      <td>2</td>\n",
              "      <td>1</td>\n",
              "      <td>3</td>\n",
              "      <td>1</td>\n",
              "      <td>6</td>\n",
              "      <td>1</td>\n",
              "      <td>2001.0</td>\n",
              "      <td>2</td>\n",
              "      <td>608</td>\n",
              "      <td>0</td>\n",
              "      <td>42</td>\n",
              "      <td>0</td>\n",
              "      <td>0</td>\n",
              "      <td>0</td>\n",
              "      <td>0</td>\n",
              "      <td>0</td>\n",
              "      <td>9</td>\n",
              "      <td>2008</td>\n",
              "      <td>0</td>\n",
              "      <td>1</td>\n",
              "      <td>0</td>\n",
              "      <td>0</td>\n",
              "      <td>...</td>\n",
              "      <td>0</td>\n",
              "      <td>1</td>\n",
              "      <td>0</td>\n",
              "      <td>0</td>\n",
              "      <td>0</td>\n",
              "      <td>0</td>\n",
              "      <td>0</td>\n",
              "      <td>0</td>\n",
              "      <td>0</td>\n",
              "      <td>0</td>\n",
              "      <td>0</td>\n",
              "      <td>0</td>\n",
              "      <td>0</td>\n",
              "      <td>0</td>\n",
              "      <td>0</td>\n",
              "      <td>0</td>\n",
              "      <td>0</td>\n",
              "      <td>0</td>\n",
              "      <td>0</td>\n",
              "      <td>0</td>\n",
              "      <td>0</td>\n",
              "      <td>1</td>\n",
              "      <td>0</td>\n",
              "      <td>0</td>\n",
              "      <td>0</td>\n",
              "      <td>0</td>\n",
              "      <td>0</td>\n",
              "      <td>0</td>\n",
              "      <td>0</td>\n",
              "      <td>1</td>\n",
              "      <td>0</td>\n",
              "      <td>0</td>\n",
              "      <td>0</td>\n",
              "      <td>0</td>\n",
              "      <td>0</td>\n",
              "      <td>1</td>\n",
              "      <td>0</td>\n",
              "      <td>0</td>\n",
              "      <td>0</td>\n",
              "      <td>0</td>\n",
              "    </tr>\n",
              "    <tr>\n",
              "      <th>3</th>\n",
              "      <td>70</td>\n",
              "      <td>60.0</td>\n",
              "      <td>9550</td>\n",
              "      <td>7</td>\n",
              "      <td>5</td>\n",
              "      <td>1915</td>\n",
              "      <td>1970</td>\n",
              "      <td>0.0</td>\n",
              "      <td>216</td>\n",
              "      <td>0</td>\n",
              "      <td>540</td>\n",
              "      <td>756</td>\n",
              "      <td>961</td>\n",
              "      <td>756</td>\n",
              "      <td>0</td>\n",
              "      <td>1717</td>\n",
              "      <td>1</td>\n",
              "      <td>0</td>\n",
              "      <td>1</td>\n",
              "      <td>0</td>\n",
              "      <td>3</td>\n",
              "      <td>1</td>\n",
              "      <td>7</td>\n",
              "      <td>1</td>\n",
              "      <td>1998.0</td>\n",
              "      <td>3</td>\n",
              "      <td>642</td>\n",
              "      <td>0</td>\n",
              "      <td>35</td>\n",
              "      <td>272</td>\n",
              "      <td>0</td>\n",
              "      <td>0</td>\n",
              "      <td>0</td>\n",
              "      <td>0</td>\n",
              "      <td>2</td>\n",
              "      <td>2006</td>\n",
              "      <td>0</td>\n",
              "      <td>1</td>\n",
              "      <td>0</td>\n",
              "      <td>0</td>\n",
              "      <td>...</td>\n",
              "      <td>0</td>\n",
              "      <td>1</td>\n",
              "      <td>0</td>\n",
              "      <td>0</td>\n",
              "      <td>0</td>\n",
              "      <td>0</td>\n",
              "      <td>0</td>\n",
              "      <td>0</td>\n",
              "      <td>0</td>\n",
              "      <td>0</td>\n",
              "      <td>0</td>\n",
              "      <td>0</td>\n",
              "      <td>0</td>\n",
              "      <td>0</td>\n",
              "      <td>0</td>\n",
              "      <td>0</td>\n",
              "      <td>0</td>\n",
              "      <td>0</td>\n",
              "      <td>0</td>\n",
              "      <td>0</td>\n",
              "      <td>0</td>\n",
              "      <td>1</td>\n",
              "      <td>0</td>\n",
              "      <td>0</td>\n",
              "      <td>0</td>\n",
              "      <td>0</td>\n",
              "      <td>0</td>\n",
              "      <td>0</td>\n",
              "      <td>0</td>\n",
              "      <td>1</td>\n",
              "      <td>0</td>\n",
              "      <td>0</td>\n",
              "      <td>0</td>\n",
              "      <td>0</td>\n",
              "      <td>0</td>\n",
              "      <td>0</td>\n",
              "      <td>0</td>\n",
              "      <td>0</td>\n",
              "      <td>0</td>\n",
              "      <td>0</td>\n",
              "    </tr>\n",
              "    <tr>\n",
              "      <th>4</th>\n",
              "      <td>60</td>\n",
              "      <td>84.0</td>\n",
              "      <td>14260</td>\n",
              "      <td>8</td>\n",
              "      <td>5</td>\n",
              "      <td>2000</td>\n",
              "      <td>2000</td>\n",
              "      <td>350.0</td>\n",
              "      <td>655</td>\n",
              "      <td>0</td>\n",
              "      <td>490</td>\n",
              "      <td>1145</td>\n",
              "      <td>1145</td>\n",
              "      <td>1053</td>\n",
              "      <td>0</td>\n",
              "      <td>2198</td>\n",
              "      <td>1</td>\n",
              "      <td>0</td>\n",
              "      <td>2</td>\n",
              "      <td>1</td>\n",
              "      <td>4</td>\n",
              "      <td>1</td>\n",
              "      <td>9</td>\n",
              "      <td>1</td>\n",
              "      <td>2000.0</td>\n",
              "      <td>3</td>\n",
              "      <td>836</td>\n",
              "      <td>192</td>\n",
              "      <td>84</td>\n",
              "      <td>0</td>\n",
              "      <td>0</td>\n",
              "      <td>0</td>\n",
              "      <td>0</td>\n",
              "      <td>0</td>\n",
              "      <td>12</td>\n",
              "      <td>2008</td>\n",
              "      <td>0</td>\n",
              "      <td>1</td>\n",
              "      <td>0</td>\n",
              "      <td>0</td>\n",
              "      <td>...</td>\n",
              "      <td>0</td>\n",
              "      <td>1</td>\n",
              "      <td>0</td>\n",
              "      <td>0</td>\n",
              "      <td>0</td>\n",
              "      <td>0</td>\n",
              "      <td>0</td>\n",
              "      <td>0</td>\n",
              "      <td>0</td>\n",
              "      <td>0</td>\n",
              "      <td>0</td>\n",
              "      <td>0</td>\n",
              "      <td>0</td>\n",
              "      <td>0</td>\n",
              "      <td>0</td>\n",
              "      <td>0</td>\n",
              "      <td>0</td>\n",
              "      <td>0</td>\n",
              "      <td>0</td>\n",
              "      <td>0</td>\n",
              "      <td>0</td>\n",
              "      <td>1</td>\n",
              "      <td>0</td>\n",
              "      <td>0</td>\n",
              "      <td>0</td>\n",
              "      <td>0</td>\n",
              "      <td>0</td>\n",
              "      <td>0</td>\n",
              "      <td>0</td>\n",
              "      <td>1</td>\n",
              "      <td>0</td>\n",
              "      <td>0</td>\n",
              "      <td>0</td>\n",
              "      <td>0</td>\n",
              "      <td>0</td>\n",
              "      <td>1</td>\n",
              "      <td>0</td>\n",
              "      <td>0</td>\n",
              "      <td>0</td>\n",
              "      <td>0</td>\n",
              "    </tr>\n",
              "  </tbody>\n",
              "</table>\n",
              "<p>5 rows × 147 columns</p>\n",
              "</div>"
            ],
            "text/plain": [
              "   MSSubClass  LotFrontage  ...  RoofMatl_WdShake  RoofMatl_WdShngl\n",
              "0          60         65.0  ...                 0                 0\n",
              "1          20         80.0  ...                 0                 0\n",
              "2          60         68.0  ...                 0                 0\n",
              "3          70         60.0  ...                 0                 0\n",
              "4          60         84.0  ...                 0                 0\n",
              "\n",
              "[5 rows x 147 columns]"
            ]
          },
          "metadata": {
            "tags": []
          },
          "execution_count": 2
        }
      ]
    },
    {
      "cell_type": "code",
      "metadata": {
        "id": "6Q8TPcfuawik"
      },
      "source": [
        "train=df[:1022]\n",
        "test=df[1023:]\n",
        "y1=y[:1022]\n",
        "y2=y[1023:]"
      ],
      "execution_count": 3,
      "outputs": []
    },
    {
      "cell_type": "code",
      "metadata": {
        "colab": {
          "base_uri": "https://localhost:8080/"
        },
        "id": "sqmeMWVBqnea",
        "outputId": "0f302eb3-fb3d-4a9b-8382-95be63fbb5a7"
      },
      "source": [
        "trainarr=train.to_numpy()\n",
        "testarr=test.to_numpy()\n",
        "import numpy as np\n",
        "#m,n=np.shape(trainarr)\n",
        "trainarr[(trainarr)==0]\n",
        "result = np.all((trainarr == 0), axis=0)\n",
        "trainarr=np.delete(trainarr, [41,48,53,54,56,69,91,113,115,119,122,124,139], axis=1)\n",
        "x=trainarr\n",
        "testarr=np.delete(testarr,[41,48,53,54,56,69,91,113,115,119,122,124,139], axis=1)\n",
        "result = np.all((trainarr == 0), axis=0)\n",
        "print('Columns that contain only zero:')\n",
        "for i in range(len(result)):\n",
        "    if result[i]:\n",
        "        print('Column: ', i)\n",
        "result1 = np.all((testarr == 0), axis=0)\n",
        "print('Columns that contain only zero:')\n",
        "for i in range(len(result1)):\n",
        "    if result1[i]:\n",
        "        print('Column: ', i)"
      ],
      "execution_count": 4,
      "outputs": [
        {
          "output_type": "stream",
          "text": [
            "Columns that contain only zero:\n",
            "Columns that contain only zero:\n"
          ],
          "name": "stdout"
        }
      ]
    },
    {
      "cell_type": "code",
      "metadata": {
        "colab": {
          "base_uri": "https://localhost:8080/"
        },
        "id": "l3xUo82Cup7k",
        "outputId": "43bc5b6a-aa93-4087-82d6-bfce1a14fe25"
      },
      "source": [
        "#Normalization of the values of features (Not PARAMETERS)\n",
        "#x=trainarr\n",
        "x_mean=np.mean((x), axis=0)\n",
        "x_std=np.std((x), axis=0)\n",
        "x_std=np.reshape(x_std,(1,-1))\n",
        "#print(x_std)\n",
        "x=(x-x_mean)/(x_std)\n",
        "#print(trainarr[(x_max-x_min)==0])\n",
        "#print((x_std)[(x_std)==0])\n",
        "#adding X0=1 for 1st parameter\n",
        "arr_of_ones=np.ones((x.shape[0],1))\n",
        "x=np.hstack((arr_of_ones,x))\n",
        "x"
      ],
      "execution_count": 5,
      "outputs": [
        {
          "output_type": "execute_result",
          "data": {
            "text/plain": [
              "array([[ 1.        ,  0.07252926, -0.22970849, ..., -0.09940535,\n",
              "        -0.05425922, -0.07011719],\n",
              "       [ 1.        , -0.87475385,  0.48344326, ..., -0.09940535,\n",
              "        -0.05425922, -0.07011719],\n",
              "       [ 1.        ,  0.07252926, -0.08707814, ..., -0.09940535,\n",
              "        -0.05425922, -0.07011719],\n",
              "       ...,\n",
              "       [ 1.        ,  1.49345392, -1.27566438, ..., -0.09940535,\n",
              "        -0.05425922, -0.07011719],\n",
              "       [ 1.        , -0.87475385, -0.46742574, ..., -0.09940535,\n",
              "        -0.05425922, -0.07011719],\n",
              "       [ 1.        , -0.87475385, -0.27725194, ..., -0.09940535,\n",
              "        -0.05425922, -0.07011719]])"
            ]
          },
          "metadata": {
            "tags": []
          },
          "execution_count": 5
        }
      ]
    },
    {
      "cell_type": "code",
      "metadata": {
        "colab": {
          "base_uri": "https://localhost:8080/"
        },
        "id": "Ja6cZN9_gRa0",
        "outputId": "f3526f4a-fd0e-442d-8235-a5fb106c1235"
      },
      "source": [
        "print(y) #y has the saleprice of training dataset\n",
        "x[np.isnan(x)]"
      ],
      "execution_count": 6,
      "outputs": [
        {
          "output_type": "stream",
          "text": [
            "[208500 181500 223500 ... 266500 142125 147500]\n"
          ],
          "name": "stdout"
        },
        {
          "output_type": "execute_result",
          "data": {
            "text/plain": [
              "array([], dtype=float64)"
            ]
          },
          "metadata": {
            "tags": []
          },
          "execution_count": 6
        }
      ]
    },
    {
      "cell_type": "code",
      "metadata": {
        "colab": {
          "base_uri": "https://localhost:8080/"
        },
        "id": "9AoKyh5vzRRi",
        "outputId": "6923efe6-775d-4b96-e1c6-6050202af259"
      },
      "source": [
        "y1_mean=np.mean((y1), axis=0)\n",
        "y1_mean.shape\n",
        "y1_std=np.std((y1), axis=0)\n",
        "y1_normalize=(y1-y1_mean)/(y1_std)\n",
        "y1_normalize.shape"
      ],
      "execution_count": 7,
      "outputs": [
        {
          "output_type": "execute_result",
          "data": {
            "text/plain": [
              "(1022,)"
            ]
          },
          "metadata": {
            "tags": []
          },
          "execution_count": 7
        }
      ]
    },
    {
      "cell_type": "code",
      "metadata": {
        "id": "2NG6gnyZa0gM"
      },
      "source": [
        "arrp=np.zeros((x.shape[1],1))\n",
        "learn_rate=0.0001\n",
        "\n",
        "#reshaping of y was necessary as it was in 1D array form. So, by below reshaping, it will be converted to 2D array.\n",
        "y1_nor=np.reshape(y1_normalize,(-1,1)) #-1 means it will automatically take the number of rows of y\n",
        "#so, we DONT NEED to see and put it there, MANUALLY.\n",
        "\n",
        "#running of number of iterations\n",
        "for z in range(5000):\n",
        "  #losses=0\n",
        "  for j in range(x.shape[1]): #to iterate through each column for parameter modification\n",
        "                    #, b=34 columns\n",
        "    #arrp1=np.array(arrp,dtype='int32')\n",
        "    pred=np.matmul(x,arrp)\n",
        "    #print(pred)\n",
        "    #mul=np.array(mul,dtype='int32') \n",
        "    sum=0 #taken here because, for each parameter editing, the sum need to be 0\n",
        "      #as we will be calculating and modifying each parameter \n",
        "    sum=np.sum(np.matmul((x.T[j]),((pred-y1_nor))))\n",
        "\n",
        "    #print(np.shape(sum))\n",
        "    #print(sum)\n",
        "    arrp[j][0]=arrp[j][0]-((learn_rate)*(sum)) #modification of each parameters\n",
        "    #print(arrp)\n",
        "  #loss=np.sum(((pred-y1_nor)**2))/y1_nor.shape[0]\n",
        "  #losses+=loss\n",
        "  #loss1.append(loss)\n",
        "  #print(loss)"
      ],
      "execution_count": 9,
      "outputs": []
    },
    {
      "cell_type": "code",
      "metadata": {
        "id": "MDCVKOQ8VSv9",
        "colab": {
          "base_uri": "https://localhost:8080/"
        },
        "outputId": "90adb4bb-02f6-4785-9c1e-56fc04c78bc9"
      },
      "source": [
        "#normalization of testarr\n",
        "testarr_mean=np.mean((testarr), axis=0)\n",
        "testarr_std=np.std((testarr), axis=0)\n",
        "testarr=(testarr-testarr_mean)/testarr_std\n",
        "testarr_ones=np.ones((testarr.shape[0],1))\n",
        "testarr=np.hstack((testarr_ones,testarr))\n",
        "testarr"
      ],
      "execution_count": 10,
      "outputs": [
        {
          "output_type": "execute_result",
          "data": {
            "text/plain": [
              "array([[ 1.        ,  1.48755151, -1.14252399, ..., -0.04789131,\n",
              "        -0.06780635, -0.04789131],\n",
              "       [ 1.        , -0.86688533, -0.02285264, ..., -0.04789131,\n",
              "        14.7478812 , -0.04789131],\n",
              "       [ 1.        , -0.86688533, -0.02492056, ..., -0.04789131,\n",
              "        -0.06780635, -0.04789131],\n",
              "       ...,\n",
              "       [ 1.        ,  0.31033309, -0.19049144, ..., -0.04789131,\n",
              "        -0.06780635, -0.04789131],\n",
              "       [ 1.        , -0.86688533, -0.107706  , ..., -0.04789131,\n",
              "        -0.06780635, -0.04789131],\n",
              "       [ 1.        , -0.86688533,  0.18204304, ..., -0.04789131,\n",
              "        -0.06780635, -0.04789131]])"
            ]
          },
          "metadata": {
            "tags": []
          },
          "execution_count": 10
        }
      ]
    },
    {
      "cell_type": "code",
      "metadata": {
        "colab": {
          "base_uri": "https://localhost:8080/"
        },
        "id": "Vzfp4ThVVqIV",
        "outputId": "61d073c0-2a91-4c70-8e88-aceca8050565"
      },
      "source": [
        "y_pred=np.matmul(testarr,arrp)\n",
        "#Here I have created another object data2, because, I want to get the value of X-axis of the graph which I have plotted below\n",
        "data2=pd.read_csv('/content/drive/MyDrive/dataset/sample_submission.csv')\n",
        "arr8=data2.to_numpy()\n",
        "arrx=arr8[:,0] #done only to plot the graph, this will be x-axis\n",
        "print(arrx) "
      ],
      "execution_count": 11,
      "outputs": [
        {
          "output_type": "stream",
          "text": [
            "[1461. 1462. 1463. ... 2917. 2918. 2919.]\n"
          ],
          "name": "stdout"
        }
      ]
    },
    {
      "cell_type": "code",
      "metadata": {
        "id": "TULhkkc648YY"
      },
      "source": [
        "#normalized predicted prices\n",
        "#y_pred"
      ],
      "execution_count": 12,
      "outputs": []
    },
    {
      "cell_type": "code",
      "metadata": {
        "colab": {
          "base_uri": "https://localhost:8080/"
        },
        "id": "l0W1qH-YLa3B",
        "outputId": "7721f680-6498-4ce7-bf5b-026a9e471db3"
      },
      "source": [
        "y2_mean=np.mean((y2), axis=0)\n",
        "y2_mean.shape\n",
        "y2_std=np.std((y2), axis=0)\n",
        "y2_normalize=(y2-y2_mean)/(y2_std)\n",
        "y2_normalize.shape"
      ],
      "execution_count": 13,
      "outputs": [
        {
          "output_type": "execute_result",
          "data": {
            "text/plain": [
              "(437,)"
            ]
          },
          "metadata": {
            "tags": []
          },
          "execution_count": 13
        }
      ]
    },
    {
      "cell_type": "code",
      "metadata": {
        "colab": {
          "base_uri": "https://localhost:8080/"
        },
        "id": "KpW47LOyvdms",
        "outputId": "17f0253d-0ac5-4dc2-8200-c14daa0a374f"
      },
      "source": [
        "#Normalized loss value\n",
        "p1=np.sum((y2_normalize-y_pred)**2)\n",
        "q1=np.sum((y2_normalize-y2_mean)**2)\n",
        "r21=1-(p1/q1)\n",
        "r21"
      ],
      "execution_count": 14,
      "outputs": [
        {
          "output_type": "execute_result",
          "data": {
            "text/plain": [
              "0.9999999744784622"
            ]
          },
          "metadata": {
            "tags": []
          },
          "execution_count": 14
        }
      ]
    }
  ]
}