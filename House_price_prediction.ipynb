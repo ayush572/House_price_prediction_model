{
  "nbformat": 4,
  "nbformat_minor": 0,
  "metadata": {
    "colab": {
      "name": "House_price_prediction.ipynb",
      "provenance": [],
      "collapsed_sections": [],
      "toc_visible": true,
      "include_colab_link": true
    },
    "kernelspec": {
      "name": "python3",
      "display_name": "Python 3"
    },
    "language_info": {
      "name": "python"
    }
  },
  "cells": [
    {
      "cell_type": "markdown",
      "metadata": {
        "id": "view-in-github",
        "colab_type": "text"
      },
      "source": [
        "<a href=\"https://colab.research.google.com/github/ayush572/House_price_prediction_model/blob/main/House_price_prediction.ipynb\" target=\"_parent\"><img src=\"https://colab.research.google.com/assets/colab-badge.svg\" alt=\"Open In Colab\"/></a>"
      ]
    },
    {
      "cell_type": "markdown",
      "metadata": {
        "id": "Szh6GXa2hsJb"
      },
      "source": [
        "# <font color=\"#bfcba8\">**Installing NumPy**</font>\n",
        "\n",
        "NumPy (Numerical Python) is an open source Python library that’s used in almost every field of science and engineering.  The NumPy API is used extensively in `Pandas`, `SciPy`, `Matplotlib`, `scikit-learn`, `scikit-image` and most other data science and scientific Python packages.\n",
        "\n",
        "The NumPy library contains *multidimensional array* and *matrix data structures* . It provides `ndarray` (a homogeneous n-dimensional array object, with methods to efficiently operate on it)\n",
        "\n",
        "NumPy can be used to perform a wide variety of mathematical operations on arrays. It adds powerful data structures to Python that guarantee efficient calculations with arrays and matrices and it supplies an enormous library of high-level mathematical functions that operate on these arrays and matrices.\n"
      ]
    },
    {
      "cell_type": "markdown",
      "metadata": {
        "id": "sOPfVwx_grBR"
      },
      "source": [
        "# <font color=\"#bfcba8\">**Installing NumPy**</font>\n",
        "\n",
        "- how to install numpy in personal machine\n",
        "- how to install in colab\n",
        "- what is `pip`\n",
        "- why `pip`\n",
        "- [pyPI](https://pypi.org/)\n"
      ]
    },
    {
      "cell_type": "markdown",
      "metadata": {
        "id": "RUPRXC8fhS9B"
      },
      "source": [
        "# <font color=\"#bfcba8\">**How to use NumPy**</font>\n",
        "- `import` statement\n",
        "- why we import as np?\n"
      ]
    },
    {
      "cell_type": "markdown",
      "metadata": {
        "id": "8NzwhQQlhY2p"
      },
      "source": [
        "# <font color=\"#bfcba8\">**Difference between python list and numpy arrays**</font>\n",
        "\n",
        "NumPy arrays are faster and more compact than Python lists. An array consumes less memory and is convenient to use. NumPy uses much less memory to store data and it provides a mechanism of specifying the data types. This allows the code to be optimized even further.\n",
        "\n"
      ]
    },
    {
      "cell_type": "markdown",
      "metadata": {
        "id": "f--tF2g1igPC"
      },
      "source": [
        "# <font color=\"#bfcba8\"> **What is an array?**</font>\n",
        "-  `ndarray`, which is shorthand for “N-dimensional array.” An N-dimensional array is simply an array with any number of dimensions.\n",
        "- You might also hear 1-D, or one-dimensional array, 2-D, or two-dimensional array, and so on. The NumPy ndarray class is used to represent both matrices and vectors. A vector is an array with a single dimension (there’s no difference between row and column vectors), while a matrix refers to an array with two dimensions. For 3-D or higher dimensional arrays, the term tensor is also commonly used.\n",
        "\n",
        "### **What are the attributes of an array?**"
      ]
    },
    {
      "cell_type": "markdown",
      "metadata": {
        "id": "cjrY8fgNjfzL"
      },
      "source": [
        "# <font color=\"#bfcba8\"> **How to create a basic array**</font> \n",
        "\n",
        "### **Specifying your data type**\n",
        "\n",
        "While the default data type is floating point (np.float64), you can explicitly specify which data type you want using the dtype keyword."
      ]
    },
    {
      "cell_type": "markdown",
      "metadata": {
        "id": "Ad4Yje-Dj1l5"
      },
      "source": [
        "# <font color=\"#bfcba8\"> **How do you know the shape and size of an array?**</font>  \n",
        "\n",
        "\n"
      ]
    },
    {
      "cell_type": "markdown",
      "metadata": {
        "id": "jsTuAi-Jj_ar"
      },
      "source": [
        "# <font color=\"#bfcba8\">  Adding, removing, and sorting elements"
      ]
    },
    {
      "cell_type": "markdown",
      "metadata": {
        "id": "iQAto-cCkPhD"
      },
      "source": [
        "# <font color=\"#bfcba8\">  Indexing and slicing </font>\n"
      ]
    },
    {
      "cell_type": "markdown",
      "metadata": {
        "id": "qQzYl_CK0XHR"
      },
      "source": [
        "# <font color=\"#bfcba8\">  Create Arrays </font>\n",
        "\n",
        "\n",
        "\n",
        "`np.ones()` , `np.zeros()` , `np.arange()` , `np.empty()`\n",
        "\n",
        "\n",
        "\n",
        "\n",
        "\n",
        "\n"
      ]
    },
    {
      "cell_type": "markdown",
      "metadata": {
        "id": "F9cMAOTd1BSq"
      },
      "source": [
        "# <font color=\"#bfcba8\">  Stacking and Concatenate Elements </font>\n",
        "\n",
        "---\n",
        "\n",
        "\n"
      ]
    },
    {
      "cell_type": "markdown",
      "metadata": {
        "id": "An8gJ3Jp1QJ6"
      },
      "source": [
        "# <font color=\"#bfcba8\">  Reshaping an Array </font>"
      ]
    },
    {
      "cell_type": "markdown",
      "metadata": {
        "id": "zT9uXgnb2MYx"
      },
      "source": [
        "# <font color=\"#bfcba8\">  Basic Linear Algebra </font>\n",
        "- Addition\n",
        "- Substraction\n",
        "- Multiplication\n",
        "- Division\n",
        "- matrix multiplication\n",
        "\n",
        "- inverse of tensor (linalg)\n"
      ]
    },
    {
      "cell_type": "markdown",
      "metadata": {
        "id": "dYA6Rgle5hiA"
      },
      "source": [
        "- I need Help \n",
        "- max,min,sum,mean,std,unique\n",
        "- savetxt\n",
        "- loadtxt\n",
        "- "
      ]
    },
    {
      "cell_type": "code",
      "metadata": {
        "id": "L5Ob9tx4ZGt7"
      },
      "source": [
        "#please scroll below"
      ],
      "execution_count": null,
      "outputs": []
    },
    {
      "cell_type": "markdown",
      "metadata": {
        "id": "grEBdq3fb2GD"
      },
      "source": [
        "# New Section"
      ]
    },
    {
      "cell_type": "code",
      "metadata": {
        "colab": {
          "base_uri": "https://localhost:8080/"
        },
        "id": "v0JS1nlb09bz",
        "outputId": "13e77b84-6703-49fd-d1ab-246710ed037a"
      },
      "source": [
        "#first run this cell please\n",
        "from google.colab import drive\n",
        "drive.mount('/content/drive')"
      ],
      "execution_count": null,
      "outputs": [
        {
          "output_type": "stream",
          "text": [
            "Drive already mounted at /content/drive; to attempt to forcibly remount, call drive.mount(\"/content/drive\", force_remount=True).\n"
          ],
          "name": "stdout"
        }
      ]
    },
    {
      "cell_type": "code",
      "metadata": {
        "id": "tSVGLZoit_ep"
      },
      "source": [
        "from google.colab import drive\n",
        "drive.mount('/content/drive')"
      ],
      "execution_count": null,
      "outputs": []
    },
    {
      "cell_type": "code",
      "metadata": {
        "colab": {
          "base_uri": "https://localhost:8080/",
          "height": 215
        },
        "id": "gpKPsfBFX5dV",
        "outputId": "0fa29ea0-0481-41a8-85f4-27a4e47f0d60"
      },
      "source": [
        "#TRAINING MODEL\n",
        "import pandas as pd\n",
        "import numpy as np\n",
        "data=pd.read_csv('/content/drive/MyDrive/dataset/train.csv')\n",
        "data.drop(['Id','MSZoning','Street','Alley','LotShape','LandContour','Utilities','LotConfig','LandSlope','Neighborhood','Condition1','Condition2','BldgType','HouseStyle','RoofStyle','RoofMatl','Exterior1st','Exterior2nd','MasVnrType','ExterQual','ExterCond','Foundation','BsmtQual','BsmtCond','BsmtExposure','BsmtFinType1','BsmtFinType2','Heating','CentralAir'], inplace=True, axis=1)\n",
        "data.drop(['HeatingQC','KitchenQual','Functional','PavedDrive','SaleType','SaleCondition'], inplace=True, axis=1)\n",
        "\n",
        "data=data.dropna(axis=1)\n",
        "data.head()\n",
        "#print(data.isnull().values.any())\n",
        "#print(data.isna().any())\n",
        "#data.info()"
      ],
      "execution_count": null,
      "outputs": [
        {
          "output_type": "execute_result",
          "data": {
            "text/html": [
              "<div>\n",
              "<style scoped>\n",
              "    .dataframe tbody tr th:only-of-type {\n",
              "        vertical-align: middle;\n",
              "    }\n",
              "\n",
              "    .dataframe tbody tr th {\n",
              "        vertical-align: top;\n",
              "    }\n",
              "\n",
              "    .dataframe thead th {\n",
              "        text-align: right;\n",
              "    }\n",
              "</style>\n",
              "<table border=\"1\" class=\"dataframe\">\n",
              "  <thead>\n",
              "    <tr style=\"text-align: right;\">\n",
              "      <th></th>\n",
              "      <th>MSSubClass</th>\n",
              "      <th>LotArea</th>\n",
              "      <th>OverallQual</th>\n",
              "      <th>OverallCond</th>\n",
              "      <th>YearBuilt</th>\n",
              "      <th>YearRemodAdd</th>\n",
              "      <th>BsmtFinSF1</th>\n",
              "      <th>BsmtFinSF2</th>\n",
              "      <th>BsmtUnfSF</th>\n",
              "      <th>TotalBsmtSF</th>\n",
              "      <th>1stFlrSF</th>\n",
              "      <th>2ndFlrSF</th>\n",
              "      <th>LowQualFinSF</th>\n",
              "      <th>GrLivArea</th>\n",
              "      <th>BsmtFullBath</th>\n",
              "      <th>BsmtHalfBath</th>\n",
              "      <th>FullBath</th>\n",
              "      <th>HalfBath</th>\n",
              "      <th>BedroomAbvGr</th>\n",
              "      <th>KitchenAbvGr</th>\n",
              "      <th>TotRmsAbvGrd</th>\n",
              "      <th>Fireplaces</th>\n",
              "      <th>GarageCars</th>\n",
              "      <th>GarageArea</th>\n",
              "      <th>WoodDeckSF</th>\n",
              "      <th>OpenPorchSF</th>\n",
              "      <th>EnclosedPorch</th>\n",
              "      <th>3SsnPorch</th>\n",
              "      <th>ScreenPorch</th>\n",
              "      <th>PoolArea</th>\n",
              "      <th>MiscVal</th>\n",
              "      <th>MoSold</th>\n",
              "      <th>YrSold</th>\n",
              "      <th>SalePrice</th>\n",
              "    </tr>\n",
              "  </thead>\n",
              "  <tbody>\n",
              "    <tr>\n",
              "      <th>0</th>\n",
              "      <td>60</td>\n",
              "      <td>8450</td>\n",
              "      <td>7</td>\n",
              "      <td>5</td>\n",
              "      <td>2003</td>\n",
              "      <td>2003</td>\n",
              "      <td>706</td>\n",
              "      <td>0</td>\n",
              "      <td>150</td>\n",
              "      <td>856</td>\n",
              "      <td>856</td>\n",
              "      <td>854</td>\n",
              "      <td>0</td>\n",
              "      <td>1710</td>\n",
              "      <td>1</td>\n",
              "      <td>0</td>\n",
              "      <td>2</td>\n",
              "      <td>1</td>\n",
              "      <td>3</td>\n",
              "      <td>1</td>\n",
              "      <td>8</td>\n",
              "      <td>0</td>\n",
              "      <td>2</td>\n",
              "      <td>548</td>\n",
              "      <td>0</td>\n",
              "      <td>61</td>\n",
              "      <td>0</td>\n",
              "      <td>0</td>\n",
              "      <td>0</td>\n",
              "      <td>0</td>\n",
              "      <td>0</td>\n",
              "      <td>2</td>\n",
              "      <td>2008</td>\n",
              "      <td>208500</td>\n",
              "    </tr>\n",
              "    <tr>\n",
              "      <th>1</th>\n",
              "      <td>20</td>\n",
              "      <td>9600</td>\n",
              "      <td>6</td>\n",
              "      <td>8</td>\n",
              "      <td>1976</td>\n",
              "      <td>1976</td>\n",
              "      <td>978</td>\n",
              "      <td>0</td>\n",
              "      <td>284</td>\n",
              "      <td>1262</td>\n",
              "      <td>1262</td>\n",
              "      <td>0</td>\n",
              "      <td>0</td>\n",
              "      <td>1262</td>\n",
              "      <td>0</td>\n",
              "      <td>1</td>\n",
              "      <td>2</td>\n",
              "      <td>0</td>\n",
              "      <td>3</td>\n",
              "      <td>1</td>\n",
              "      <td>6</td>\n",
              "      <td>1</td>\n",
              "      <td>2</td>\n",
              "      <td>460</td>\n",
              "      <td>298</td>\n",
              "      <td>0</td>\n",
              "      <td>0</td>\n",
              "      <td>0</td>\n",
              "      <td>0</td>\n",
              "      <td>0</td>\n",
              "      <td>0</td>\n",
              "      <td>5</td>\n",
              "      <td>2007</td>\n",
              "      <td>181500</td>\n",
              "    </tr>\n",
              "    <tr>\n",
              "      <th>2</th>\n",
              "      <td>60</td>\n",
              "      <td>11250</td>\n",
              "      <td>7</td>\n",
              "      <td>5</td>\n",
              "      <td>2001</td>\n",
              "      <td>2002</td>\n",
              "      <td>486</td>\n",
              "      <td>0</td>\n",
              "      <td>434</td>\n",
              "      <td>920</td>\n",
              "      <td>920</td>\n",
              "      <td>866</td>\n",
              "      <td>0</td>\n",
              "      <td>1786</td>\n",
              "      <td>1</td>\n",
              "      <td>0</td>\n",
              "      <td>2</td>\n",
              "      <td>1</td>\n",
              "      <td>3</td>\n",
              "      <td>1</td>\n",
              "      <td>6</td>\n",
              "      <td>1</td>\n",
              "      <td>2</td>\n",
              "      <td>608</td>\n",
              "      <td>0</td>\n",
              "      <td>42</td>\n",
              "      <td>0</td>\n",
              "      <td>0</td>\n",
              "      <td>0</td>\n",
              "      <td>0</td>\n",
              "      <td>0</td>\n",
              "      <td>9</td>\n",
              "      <td>2008</td>\n",
              "      <td>223500</td>\n",
              "    </tr>\n",
              "    <tr>\n",
              "      <th>3</th>\n",
              "      <td>70</td>\n",
              "      <td>9550</td>\n",
              "      <td>7</td>\n",
              "      <td>5</td>\n",
              "      <td>1915</td>\n",
              "      <td>1970</td>\n",
              "      <td>216</td>\n",
              "      <td>0</td>\n",
              "      <td>540</td>\n",
              "      <td>756</td>\n",
              "      <td>961</td>\n",
              "      <td>756</td>\n",
              "      <td>0</td>\n",
              "      <td>1717</td>\n",
              "      <td>1</td>\n",
              "      <td>0</td>\n",
              "      <td>1</td>\n",
              "      <td>0</td>\n",
              "      <td>3</td>\n",
              "      <td>1</td>\n",
              "      <td>7</td>\n",
              "      <td>1</td>\n",
              "      <td>3</td>\n",
              "      <td>642</td>\n",
              "      <td>0</td>\n",
              "      <td>35</td>\n",
              "      <td>272</td>\n",
              "      <td>0</td>\n",
              "      <td>0</td>\n",
              "      <td>0</td>\n",
              "      <td>0</td>\n",
              "      <td>2</td>\n",
              "      <td>2006</td>\n",
              "      <td>140000</td>\n",
              "    </tr>\n",
              "    <tr>\n",
              "      <th>4</th>\n",
              "      <td>60</td>\n",
              "      <td>14260</td>\n",
              "      <td>8</td>\n",
              "      <td>5</td>\n",
              "      <td>2000</td>\n",
              "      <td>2000</td>\n",
              "      <td>655</td>\n",
              "      <td>0</td>\n",
              "      <td>490</td>\n",
              "      <td>1145</td>\n",
              "      <td>1145</td>\n",
              "      <td>1053</td>\n",
              "      <td>0</td>\n",
              "      <td>2198</td>\n",
              "      <td>1</td>\n",
              "      <td>0</td>\n",
              "      <td>2</td>\n",
              "      <td>1</td>\n",
              "      <td>4</td>\n",
              "      <td>1</td>\n",
              "      <td>9</td>\n",
              "      <td>1</td>\n",
              "      <td>3</td>\n",
              "      <td>836</td>\n",
              "      <td>192</td>\n",
              "      <td>84</td>\n",
              "      <td>0</td>\n",
              "      <td>0</td>\n",
              "      <td>0</td>\n",
              "      <td>0</td>\n",
              "      <td>0</td>\n",
              "      <td>12</td>\n",
              "      <td>2008</td>\n",
              "      <td>250000</td>\n",
              "    </tr>\n",
              "  </tbody>\n",
              "</table>\n",
              "</div>"
            ],
            "text/plain": [
              "   MSSubClass  LotArea  OverallQual  ...  MoSold  YrSold  SalePrice\n",
              "0          60     8450            7  ...       2    2008     208500\n",
              "1          20     9600            6  ...       5    2007     181500\n",
              "2          60    11250            7  ...       9    2008     223500\n",
              "3          70     9550            7  ...       2    2006     140000\n",
              "4          60    14260            8  ...      12    2008     250000\n",
              "\n",
              "[5 rows x 34 columns]"
            ]
          },
          "metadata": {
            "tags": []
          },
          "execution_count": 7
        }
      ]
    },
    {
      "cell_type": "code",
      "metadata": {
        "colab": {
          "base_uri": "https://localhost:8080/"
        },
        "id": "UIrwSZuIgvGh",
        "outputId": "ba38f5aa-9867-4f3f-beef-3c464e339e9b"
      },
      "source": [
        "arr=data.to_numpy()\n",
        "m,n=np.shape(arr)\n",
        "x=arr[:,:n-1]\n",
        "y=arr[:,n-1]\n",
        "print(arr.shape)\n",
        "print(x.shape)\n",
        "print(y.shape)"
      ],
      "execution_count": null,
      "outputs": [
        {
          "output_type": "stream",
          "text": [
            "(1460, 34)\n",
            "(1460, 33)\n",
            "(1460,)\n"
          ],
          "name": "stdout"
        }
      ]
    },
    {
      "cell_type": "code",
      "metadata": {
        "colab": {
          "base_uri": "https://localhost:8080/"
        },
        "id": "uqLC8H6miQh0",
        "outputId": "a04ee553-eb62-4553-8a2d-14428efd0bb6"
      },
      "source": [
        "x_mean=np.mean((x), axis=0)\n",
        "x_mean.shape\n",
        "x_std=np.std((x), axis=0)\n",
        "x=(x-x_mean)/(x_std)\n",
        "\n",
        "arr_of_ones=np.ones((x.shape[0],1))\n",
        "x=np.hstack((arr_of_ones,x))\n",
        "print(x.shape)"
      ],
      "execution_count": null,
      "outputs": [
        {
          "output_type": "stream",
          "text": [
            "(1460, 34)\n",
            "[[ 1.          0.07337496 -0.20714171 ... -0.08768781 -1.5991111\n",
            "   0.13877749]\n",
            " [ 1.         -0.87256276 -0.09188637 ... -0.08768781 -0.48911005\n",
            "  -0.61443862]\n",
            " [ 1.          0.07337496  0.07347998 ... -0.08768781  0.99089135\n",
            "   0.13877749]\n",
            " ...\n",
            " [ 1.          0.30985939 -0.14781027 ...  4.95311151 -0.48911005\n",
            "   1.64520971]\n",
            " [ 1.         -0.87256276 -0.08016039 ... -0.08768781 -0.8591104\n",
            "   1.64520971]\n",
            " [ 1.         -0.87256276 -0.05811155 ... -0.08768781 -0.1191097\n",
            "   0.13877749]]\n"
          ],
          "name": "stdout"
        }
      ]
    },
    {
      "cell_type": "code",
      "metadata": {
        "colab": {
          "base_uri": "https://localhost:8080/"
        },
        "id": "sSFZA1Hmk2TZ",
        "outputId": "fa7c6dd5-1121-44c0-8834-21b3d96b59ce"
      },
      "source": [
        "print(x)"
      ],
      "execution_count": null,
      "outputs": [
        {
          "output_type": "stream",
          "text": [
            "[[ 1.          0.07337496 -0.20714171 ... -0.08768781 -1.5991111\n",
            "   0.13877749]\n",
            " [ 1.         -0.87256276 -0.09188637 ... -0.08768781 -0.48911005\n",
            "  -0.61443862]\n",
            " [ 1.          0.07337496  0.07347998 ... -0.08768781  0.99089135\n",
            "   0.13877749]\n",
            " ...\n",
            " [ 1.          0.30985939 -0.14781027 ...  4.95311151 -0.48911005\n",
            "   1.64520971]\n",
            " [ 1.         -0.87256276 -0.08016039 ... -0.08768781 -0.8591104\n",
            "   1.64520971]\n",
            " [ 1.         -0.87256276 -0.05811155 ... -0.08768781 -0.1191097\n",
            "   0.13877749]]\n"
          ],
          "name": "stdout"
        }
      ]
    },
    {
      "cell_type": "code",
      "metadata": {
        "colab": {
          "base_uri": "https://localhost:8080/"
        },
        "id": "oad1kdgHlB7Q",
        "outputId": "72707f4e-5f86-4b4c-daaa-a258164f08a8"
      },
      "source": [
        "arrp=np.zeros((x.shape[1],1))\n",
        "learn_rate=0.001\n",
        "y=np.reshape(y,(-1,1)) #-1 means it will automatically take the number of rows of y\n",
        "#so, we DONT NEED to see and put it there, MANUALLY.\n",
        "for z in range(1000):\n",
        "  for j in range(x.shape[1]): #to iterate through each column for parameter modification\n",
        "                    #, b=34 columns\n",
        "    #arrp1=np.array(arrp,dtype='int32')\n",
        "    pred=np.matmul(x,arrp)\n",
        "    #mul=np.array(mul,dtype='int32') \n",
        "    sum=0 #taken here because, for each parameter editing, the sum need to be 0\n",
        "      #as we will be calculating and modifying each parameter \n",
        "    sum=np.sum(np.matmul((x.T[j]),((pred-y))))\n",
        "\n",
        "    #print(np.shape(sum))\n",
        "    #print(sum)\n",
        "    arrp[j][0]=arrp[j][0]-((learn_rate)*(sum)) #modification of each parameters\n",
        "  #loss=np.sum(((pred-y)**2))/(y.shape[0])\n",
        "  #print(arrp)\n",
        "print(arrp)#parameters array printing'''"
      ],
      "execution_count": null,
      "outputs": [
        {
          "output_type": "stream",
          "text": [
            "[[180921.19589041]\n",
            " [ -6878.79757652]\n",
            " [  3953.50296901]\n",
            " [ 24754.16428757]\n",
            " [  4915.54764563]\n",
            " [ 10466.35628018]\n",
            " [  2828.9775948 ]\n",
            " [ 13427.22010351]\n",
            " [  2400.82684194]\n",
            " [  8129.13486619]\n",
            " [ -3386.84761856]\n",
            " [ 32204.25851255]\n",
            " [ 36411.93030139]\n",
            " [  2843.20414612]\n",
            " [-17183.07465666]\n",
            " [  4427.33005978]\n",
            " [   588.84889326]\n",
            " [  1970.22016718]\n",
            " [  -667.03076183]\n",
            " [ -8587.83601071]\n",
            " [ -2847.5058447 ]\n",
            " [  8339.17798023]\n",
            " [  2318.00312933]\n",
            " [  7944.03895733]\n",
            " [   298.41478439]\n",
            " [  3304.38908752]\n",
            " [  -372.19142197]\n",
            " [   532.89923573]\n",
            " [   550.13837237]\n",
            " [  3226.46773771]\n",
            " [ -1711.51674379]\n",
            " [  -442.01695378]\n",
            " [  -311.7527348 ]\n",
            " [ -1005.87852816]]\n"
          ],
          "name": "stdout"
        }
      ]
    },
    {
      "cell_type": "code",
      "metadata": {
        "id": "IjfLZ5s4yRbb"
      },
      "source": [
        "#Testing of data\n",
        "data1=pd.read_csv('/content/drive/MyDrive/dataset/test.csv')\n",
        "data1.head()\n",
        "data1.drop(['Id','MSZoning','Street','Alley','LotShape','LandContour','Utilities','LotConfig','LandSlope','Neighborhood','Condition1','Condition2','BldgType','HouseStyle','RoofStyle','RoofMatl','Exterior1st','Exterior2nd','MasVnrType','ExterQual','ExterCond','Foundation','BsmtQual','BsmtCond','BsmtExposure','BsmtFinType1','BsmtFinType2','Heating','CentralAir'], inplace=True, axis=1)\n",
        "data1.drop(['HeatingQC','KitchenQual','Functional','PavedDrive','SaleType','SaleCondition','PoolQC','Fence','MiscFeature','GarageCond','GarageQual'], inplace=True, axis=1)\n",
        "data1.drop(['GarageType','GarageFinish','FireplaceQu','Electrical','GarageYrBlt','MasVnrArea','LotFrontage'], inplace=True, axis=1)\n",
        "#data1.head()\n",
        "#print(data1.info())\n",
        "#print(data.info())\n",
        "column_means=data1.mean()\n",
        "data1=data1.fillna(column_means)\n",
        "#data1.isnull().any()"
      ],
      "execution_count": null,
      "outputs": []
    },
    {
      "cell_type": "code",
      "metadata": {
        "id": "-t7KKOH29bOx"
      },
      "source": [
        "orig_arr=data1.to_numpy()\n",
        "n1=orig_arr.shape[1]\n",
        "x1=orig_arr[:,:n1]"
      ],
      "execution_count": null,
      "outputs": []
    },
    {
      "cell_type": "code",
      "metadata": {
        "id": "eAGhvUuQx9_q"
      },
      "source": [
        "x1_mean=np.mean((x1), axis=0)\n",
        "x1_std=np.std((x1), axis=0)\n",
        "x1=(x1-x1_mean)/x1_std\n",
        "x1_ones=np.ones((x1.shape[0],1))\n",
        "x1=np.hstack((x1_ones,x1))"
      ],
      "execution_count": null,
      "outputs": []
    },
    {
      "cell_type": "code",
      "metadata": {
        "colab": {
          "base_uri": "https://localhost:8080/"
        },
        "id": "PLbV2lMjyl4z",
        "outputId": "fdd56371-dfbc-4f89-859b-9241a3bdb4b2"
      },
      "source": [
        "print(x1.shape)"
      ],
      "execution_count": null,
      "outputs": [
        {
          "output_type": "stream",
          "text": [
            "(1459, 34)\n"
          ],
          "name": "stdout"
        }
      ]
    },
    {
      "cell_type": "code",
      "metadata": {
        "colab": {
          "base_uri": "https://localhost:8080/"
        },
        "id": "fIKqe6cn0N7G",
        "outputId": "107055b1-b89f-4e32-a7a9-cdb53e6ff58d"
      },
      "source": [
        "y_pred=np.matmul(x1,arrp)\n",
        "#Here I have created another object data2, because, I want to get the value of X-axis of the graph which I have plotted below\n",
        "data2=pd.read_csv('/content/drive/MyDrive/dataset/sample_submission.csv')\n",
        "arr8=data2.to_numpy()\n",
        "arrx=arr8[:,0] #done only to plot the graph, this will be x-axis\n",
        "print(arrx) "
      ],
      "execution_count": null,
      "outputs": [
        {
          "output_type": "stream",
          "text": [
            "[1461. 1462. 1463. ... 2917. 2918. 2919.]\n"
          ],
          "name": "stdout"
        }
      ]
    },
    {
      "cell_type": "code",
      "metadata": {
        "colab": {
          "base_uri": "https://localhost:8080/"
        },
        "id": "heZbkVy14KBU",
        "outputId": "0c27c78d-9e60-475f-8334-eca201bf677e"
      },
      "source": [
        "#data3 has been created, so as to read the y_orig from sample_submission\n",
        "data3=pd.read_csv('/content/drive/MyDrive/dataset/sample_submission.csv')\n",
        "data3.drop(['Id'], inplace=True, axis=1) #Id has been droped, as I only want the y_orig\n",
        "original=data3.to_numpy()\n",
        "print(original.shape)\n",
        "y_orig=original\n",
        "print(y_pred)\n",
        "print(y_orig)"
      ],
      "execution_count": null,
      "outputs": [
        {
          "output_type": "stream",
          "text": [
            "(1459, 1)\n",
            "[[126967.85991216]\n",
            " [159186.58127282]\n",
            " [183395.57341605]\n",
            " ...\n",
            " [186920.61920681]\n",
            " [109148.1035541 ]\n",
            " [260181.40803949]]\n",
            "[[169277.0524984 ]\n",
            " [187758.39398877]\n",
            " [183583.68356955]\n",
            " ...\n",
            " [219222.42340006]\n",
            " [184924.279659  ]\n",
            " [187741.86665748]]\n"
          ],
          "name": "stdout"
        }
      ]
    },
    {
      "cell_type": "code",
      "metadata": {
        "colab": {
          "base_uri": "https://localhost:8080/"
        },
        "id": "aFjPQBQe2yXj",
        "outputId": "57a96268-7205-47b1-ed9f-2845ff163109"
      },
      "source": [
        "#to fing r2 score\n",
        "p=y_orig-y_pred\n",
        "p=p**2\n",
        "y_bar=np.mean(y_orig)\n",
        "b=y_orig-y_bar\n",
        "b=b**2\n",
        "s1=np.sum(p)\n",
        "s2=np.sum(b)\n",
        "r2_score=1-(s1/s2)\n",
        "print(r2_score)"
      ],
      "execution_count": null,
      "outputs": [
        {
          "output_type": "stream",
          "text": [
            "-15.174147709755793\n"
          ],
          "name": "stdout"
        }
      ]
    },
    {
      "cell_type": "code",
      "metadata": {
        "colab": {
          "base_uri": "https://localhost:8080/",
          "height": 282
        },
        "id": "FIFWbGYz3idI",
        "outputId": "acb79b31-f537-48e7-83c3-dc78fbf5f91a"
      },
      "source": [
        "#graph plotting between predicted and original values\n",
        "#Blue graph-->prediction model, to predict the house price\n",
        "#Orange graph-->actual value price of the house\n",
        "#X-axis has the Id-->arrx\n",
        "from matplotlib import pyplot as plt\n",
        "plt.plot(arrx,y_pred) #arrx has the values 1461, 1462,... i.e, Id's\n",
        "plt.plot(arrx,y_orig)\n",
        "#for arrx refer sample_submission file in the dataset directory"
      ],
      "execution_count": null,
      "outputs": [
        {
          "output_type": "execute_result",
          "data": {
            "text/plain": [
              "[<matplotlib.lines.Line2D at 0x7f8acc39d290>]"
            ]
          },
          "metadata": {
            "tags": []
          },
          "execution_count": 90
        },
        {
          "output_type": "display_data",
          "data": {
            "image/png": "[encoded data removed]",
            "text/plain": [
              "<Figure size 432x288 with 1 Axes>"
            ]
          },
          "metadata": {
            "tags": [],
            "needs_background": "light"
          }
        }
      ]
    }
  ]
}